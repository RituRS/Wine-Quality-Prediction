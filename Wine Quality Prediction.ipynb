{
 "cells": [
  {
   "cell_type": "code",
   "execution_count": 1,
   "id": "8f27fb2e",
   "metadata": {},
   "outputs": [
    {
     "name": "stdout",
     "output_type": "stream",
     "text": [
      "Requirement already satisfied: xgboost in d:\\users\\rituja\\anaconda3\\lib\\site-packages (2.0.0)\n",
      "Requirement already satisfied: scipy in d:\\users\\rituja\\anaconda3\\lib\\site-packages (from xgboost) (1.7.1)\n",
      "Requirement already satisfied: numpy in d:\\users\\rituja\\anaconda3\\lib\\site-packages (from xgboost) (1.22.4)\n",
      "Note: you may need to restart the kernel to use updated packages.\n"
     ]
    }
   ],
   "source": [
    "pip install xgboost"
   ]
  },
  {
   "cell_type": "code",
   "execution_count": 2,
   "id": "d1f6573c",
   "metadata": {},
   "outputs": [],
   "source": [
    "import numpy as np\n",
    "import pandas as pd\n",
    "import matplotlib.pyplot as plt\n",
    "import warnings \n",
    "warnings.filterwarnings('ignore')\n",
    "import seaborn as sns\n",
    "from sklearn.model_selection import train_test_split\n",
    "from sklearn.preprocessing import MinMaxScaler\n",
    "from sklearn import metrics\n",
    "from sklearn.svm import SVC\n",
    "from xgboost import XGBClassifier\n",
    "from sklearn.linear_model import LogisticRegression"
   ]
  },
  {
   "cell_type": "code",
   "execution_count": 3,
   "id": "403f074f",
   "metadata": {},
   "outputs": [
    {
     "name": "stdout",
     "output_type": "stream",
     "text": [
      "    type  fixed acidity  volatile acidity  citric acid  residual sugar  \\\n",
      "0  white            7.0              0.27         0.36            20.7   \n",
      "1  white            6.3              0.30         0.34             1.6   \n",
      "2  white            8.1              0.28         0.40             6.9   \n",
      "3  white            7.2              0.23         0.32             8.5   \n",
      "4  white            7.2              0.23         0.32             8.5   \n",
      "\n",
      "   chlorides  free sulfur dioxide  total sulfur dioxide  density    pH  \\\n",
      "0      0.045                 45.0                 170.0   1.0010  3.00   \n",
      "1      0.049                 14.0                 132.0   0.9940  3.30   \n",
      "2      0.050                 30.0                  97.0   0.9951  3.26   \n",
      "3      0.058                 47.0                 186.0   0.9956  3.19   \n",
      "4      0.058                 47.0                 186.0   0.9956  3.19   \n",
      "\n",
      "   sulphates  alcohol  quality  \n",
      "0       0.45      8.8        6  \n",
      "1       0.49      9.5        6  \n",
      "2       0.44     10.1        6  \n",
      "3       0.40      9.9        6  \n",
      "4       0.40      9.9        6  \n"
     ]
    }
   ],
   "source": [
    "df= pd.read_csv('winequalityN.csv')\n",
    "print(df.head())"
   ]
  },
  {
   "cell_type": "code",
   "execution_count": 4,
   "id": "efa1adc4",
   "metadata": {},
   "outputs": [
    {
     "name": "stdout",
     "output_type": "stream",
     "text": [
      "<class 'pandas.core.frame.DataFrame'>\n",
      "RangeIndex: 6497 entries, 0 to 6496\n",
      "Data columns (total 13 columns):\n",
      " #   Column                Non-Null Count  Dtype  \n",
      "---  ------                --------------  -----  \n",
      " 0   type                  6497 non-null   object \n",
      " 1   fixed acidity         6487 non-null   float64\n",
      " 2   volatile acidity      6489 non-null   float64\n",
      " 3   citric acid           6494 non-null   float64\n",
      " 4   residual sugar        6495 non-null   float64\n",
      " 5   chlorides             6495 non-null   float64\n",
      " 6   free sulfur dioxide   6497 non-null   float64\n",
      " 7   total sulfur dioxide  6497 non-null   float64\n",
      " 8   density               6497 non-null   float64\n",
      " 9   pH                    6488 non-null   float64\n",
      " 10  sulphates             6493 non-null   float64\n",
      " 11  alcohol               6497 non-null   float64\n",
      " 12  quality               6497 non-null   int64  \n",
      "dtypes: float64(11), int64(1), object(1)\n",
      "memory usage: 660.0+ KB\n"
     ]
    }
   ],
   "source": [
    "df.info()"
   ]
  },
  {
   "cell_type": "code",
   "execution_count": 5,
   "id": "9c25351d",
   "metadata": {},
   "outputs": [
    {
     "data": {
      "text/html": [
       "<div>\n",
       "<style scoped>\n",
       "    .dataframe tbody tr th:only-of-type {\n",
       "        vertical-align: middle;\n",
       "    }\n",
       "\n",
       "    .dataframe tbody tr th {\n",
       "        vertical-align: top;\n",
       "    }\n",
       "\n",
       "    .dataframe thead th {\n",
       "        text-align: right;\n",
       "    }\n",
       "</style>\n",
       "<table border=\"1\" class=\"dataframe\">\n",
       "  <thead>\n",
       "    <tr style=\"text-align: right;\">\n",
       "      <th></th>\n",
       "      <th>count</th>\n",
       "      <th>mean</th>\n",
       "      <th>std</th>\n",
       "      <th>min</th>\n",
       "      <th>25%</th>\n",
       "      <th>50%</th>\n",
       "      <th>75%</th>\n",
       "      <th>max</th>\n",
       "    </tr>\n",
       "  </thead>\n",
       "  <tbody>\n",
       "    <tr>\n",
       "      <th>fixed acidity</th>\n",
       "      <td>6487.0</td>\n",
       "      <td>7.216579</td>\n",
       "      <td>1.296750</td>\n",
       "      <td>3.80000</td>\n",
       "      <td>6.40000</td>\n",
       "      <td>7.00000</td>\n",
       "      <td>7.70000</td>\n",
       "      <td>15.90000</td>\n",
       "    </tr>\n",
       "    <tr>\n",
       "      <th>volatile acidity</th>\n",
       "      <td>6489.0</td>\n",
       "      <td>0.339691</td>\n",
       "      <td>0.164649</td>\n",
       "      <td>0.08000</td>\n",
       "      <td>0.23000</td>\n",
       "      <td>0.29000</td>\n",
       "      <td>0.40000</td>\n",
       "      <td>1.58000</td>\n",
       "    </tr>\n",
       "    <tr>\n",
       "      <th>citric acid</th>\n",
       "      <td>6494.0</td>\n",
       "      <td>0.318722</td>\n",
       "      <td>0.145265</td>\n",
       "      <td>0.00000</td>\n",
       "      <td>0.25000</td>\n",
       "      <td>0.31000</td>\n",
       "      <td>0.39000</td>\n",
       "      <td>1.66000</td>\n",
       "    </tr>\n",
       "    <tr>\n",
       "      <th>residual sugar</th>\n",
       "      <td>6495.0</td>\n",
       "      <td>5.444326</td>\n",
       "      <td>4.758125</td>\n",
       "      <td>0.60000</td>\n",
       "      <td>1.80000</td>\n",
       "      <td>3.00000</td>\n",
       "      <td>8.10000</td>\n",
       "      <td>65.80000</td>\n",
       "    </tr>\n",
       "    <tr>\n",
       "      <th>chlorides</th>\n",
       "      <td>6495.0</td>\n",
       "      <td>0.056042</td>\n",
       "      <td>0.035036</td>\n",
       "      <td>0.00900</td>\n",
       "      <td>0.03800</td>\n",
       "      <td>0.04700</td>\n",
       "      <td>0.06500</td>\n",
       "      <td>0.61100</td>\n",
       "    </tr>\n",
       "    <tr>\n",
       "      <th>free sulfur dioxide</th>\n",
       "      <td>6497.0</td>\n",
       "      <td>30.525319</td>\n",
       "      <td>17.749400</td>\n",
       "      <td>1.00000</td>\n",
       "      <td>17.00000</td>\n",
       "      <td>29.00000</td>\n",
       "      <td>41.00000</td>\n",
       "      <td>289.00000</td>\n",
       "    </tr>\n",
       "    <tr>\n",
       "      <th>total sulfur dioxide</th>\n",
       "      <td>6497.0</td>\n",
       "      <td>115.744574</td>\n",
       "      <td>56.521855</td>\n",
       "      <td>6.00000</td>\n",
       "      <td>77.00000</td>\n",
       "      <td>118.00000</td>\n",
       "      <td>156.00000</td>\n",
       "      <td>440.00000</td>\n",
       "    </tr>\n",
       "    <tr>\n",
       "      <th>density</th>\n",
       "      <td>6497.0</td>\n",
       "      <td>0.994697</td>\n",
       "      <td>0.002999</td>\n",
       "      <td>0.98711</td>\n",
       "      <td>0.99234</td>\n",
       "      <td>0.99489</td>\n",
       "      <td>0.99699</td>\n",
       "      <td>1.03898</td>\n",
       "    </tr>\n",
       "    <tr>\n",
       "      <th>pH</th>\n",
       "      <td>6488.0</td>\n",
       "      <td>3.218395</td>\n",
       "      <td>0.160748</td>\n",
       "      <td>2.72000</td>\n",
       "      <td>3.11000</td>\n",
       "      <td>3.21000</td>\n",
       "      <td>3.32000</td>\n",
       "      <td>4.01000</td>\n",
       "    </tr>\n",
       "    <tr>\n",
       "      <th>sulphates</th>\n",
       "      <td>6493.0</td>\n",
       "      <td>0.531215</td>\n",
       "      <td>0.148814</td>\n",
       "      <td>0.22000</td>\n",
       "      <td>0.43000</td>\n",
       "      <td>0.51000</td>\n",
       "      <td>0.60000</td>\n",
       "      <td>2.00000</td>\n",
       "    </tr>\n",
       "    <tr>\n",
       "      <th>alcohol</th>\n",
       "      <td>6497.0</td>\n",
       "      <td>10.491801</td>\n",
       "      <td>1.192712</td>\n",
       "      <td>8.00000</td>\n",
       "      <td>9.50000</td>\n",
       "      <td>10.30000</td>\n",
       "      <td>11.30000</td>\n",
       "      <td>14.90000</td>\n",
       "    </tr>\n",
       "    <tr>\n",
       "      <th>quality</th>\n",
       "      <td>6497.0</td>\n",
       "      <td>5.818378</td>\n",
       "      <td>0.873255</td>\n",
       "      <td>3.00000</td>\n",
       "      <td>5.00000</td>\n",
       "      <td>6.00000</td>\n",
       "      <td>6.00000</td>\n",
       "      <td>9.00000</td>\n",
       "    </tr>\n",
       "  </tbody>\n",
       "</table>\n",
       "</div>"
      ],
      "text/plain": [
       "                       count        mean        std      min       25%  \\\n",
       "fixed acidity         6487.0    7.216579   1.296750  3.80000   6.40000   \n",
       "volatile acidity      6489.0    0.339691   0.164649  0.08000   0.23000   \n",
       "citric acid           6494.0    0.318722   0.145265  0.00000   0.25000   \n",
       "residual sugar        6495.0    5.444326   4.758125  0.60000   1.80000   \n",
       "chlorides             6495.0    0.056042   0.035036  0.00900   0.03800   \n",
       "free sulfur dioxide   6497.0   30.525319  17.749400  1.00000  17.00000   \n",
       "total sulfur dioxide  6497.0  115.744574  56.521855  6.00000  77.00000   \n",
       "density               6497.0    0.994697   0.002999  0.98711   0.99234   \n",
       "pH                    6488.0    3.218395   0.160748  2.72000   3.11000   \n",
       "sulphates             6493.0    0.531215   0.148814  0.22000   0.43000   \n",
       "alcohol               6497.0   10.491801   1.192712  8.00000   9.50000   \n",
       "quality               6497.0    5.818378   0.873255  3.00000   5.00000   \n",
       "\n",
       "                            50%        75%        max  \n",
       "fixed acidity           7.00000    7.70000   15.90000  \n",
       "volatile acidity        0.29000    0.40000    1.58000  \n",
       "citric acid             0.31000    0.39000    1.66000  \n",
       "residual sugar          3.00000    8.10000   65.80000  \n",
       "chlorides               0.04700    0.06500    0.61100  \n",
       "free sulfur dioxide    29.00000   41.00000  289.00000  \n",
       "total sulfur dioxide  118.00000  156.00000  440.00000  \n",
       "density                 0.99489    0.99699    1.03898  \n",
       "pH                      3.21000    3.32000    4.01000  \n",
       "sulphates               0.51000    0.60000    2.00000  \n",
       "alcohol                10.30000   11.30000   14.90000  \n",
       "quality                 6.00000    6.00000    9.00000  "
      ]
     },
     "execution_count": 5,
     "metadata": {},
     "output_type": "execute_result"
    }
   ],
   "source": [
    "df.describe().T"
   ]
  },
  {
   "cell_type": "code",
   "execution_count": 6,
   "id": "3c1ce1c7",
   "metadata": {},
   "outputs": [
    {
     "data": {
      "text/plain": [
       "type                     0\n",
       "fixed acidity           10\n",
       "volatile acidity         8\n",
       "citric acid              3\n",
       "residual sugar           2\n",
       "chlorides                2\n",
       "free sulfur dioxide      0\n",
       "total sulfur dioxide     0\n",
       "density                  0\n",
       "pH                       9\n",
       "sulphates                4\n",
       "alcohol                  0\n",
       "quality                  0\n",
       "dtype: int64"
      ]
     },
     "execution_count": 6,
     "metadata": {},
     "output_type": "execute_result"
    }
   ],
   "source": [
    "df.isnull().sum()"
   ]
  },
  {
   "cell_type": "code",
   "execution_count": 7,
   "id": "c71d93e3",
   "metadata": {},
   "outputs": [
    {
     "data": {
      "text/plain": [
       "0"
      ]
     },
     "execution_count": 7,
     "metadata": {},
     "output_type": "execute_result"
    }
   ],
   "source": [
    "for col in df.columns:\n",
    "    if df[col].isnull().sum()>0:\n",
    "        df[col]=df[col].fillna(df[col].mean())\n",
    "df.isnull().sum().sum()"
   ]
  },
  {
   "cell_type": "code",
   "execution_count": 8,
   "id": "a44f82fd",
   "metadata": {},
   "outputs": [
    {
     "data": {
      "image/png": "[encoded data removed]",
      "text/plain": [
       "<Figure size 720x720 with 12 Axes>"
      ]
     },
     "metadata": {
      "needs_background": "light"
     },
     "output_type": "display_data"
    }
   ],
   "source": [
    "df.hist(bins=20, figsize=(10,10))\n",
    "plt.show()"
   ]
  },
  {
   "cell_type": "code",
   "execution_count": 9,
   "id": "27574d7d",
   "metadata": {},
   "outputs": [
    {
     "data": {
      "image/png": "[encoded data removed]",
      "text/plain": [
       "<Figure size 432x288 with 1 Axes>"
      ]
     },
     "metadata": {
      "needs_background": "light"
     },
     "output_type": "display_data"
    }
   ],
   "source": [
    "plt.bar(df['quality'],df['alcohol'])\n",
    "plt.xlabel('quality')\n",
    "plt.ylabel('alcohol')\n",
    "plt.title('Count plot for each quality of wine')\n",
    "plt.show()"
   ]
  },
  {
   "cell_type": "code",
   "execution_count": 10,
   "id": "72b74d12",
   "metadata": {},
   "outputs": [
    {
     "data": {
      "image/png": "[encoded data removed]",
      "text/plain": [
       "<Figure size 864x864 with 1 Axes>"
      ]
     },
     "metadata": {
      "needs_background": "light"
     },
     "output_type": "display_data"
    }
   ],
   "source": [
    "#finding the highly correlated features(in this case 'free sulfur dioxide' and 'total sulfur dioxide')\n",
    "plt.figure(figsize=(12,12))\n",
    "sns.heatmap(df.corr()>0.7,annot=True,cbar=False)\n",
    "plt.title('Heat map for highly correlated features')\n",
    "plt.show()"
   ]
  },
  {
   "cell_type": "code",
   "execution_count": 11,
   "id": "155d0be8",
   "metadata": {},
   "outputs": [
    {
     "name": "stdout",
     "output_type": "stream",
     "text": [
      "       type  fixed acidity  volatile acidity  citric acid  residual sugar  \\\n",
      "0     white            7.0             0.270         0.36            20.7   \n",
      "1     white            6.3             0.300         0.34             1.6   \n",
      "2     white            8.1             0.280         0.40             6.9   \n",
      "3     white            7.2             0.230         0.32             8.5   \n",
      "4     white            7.2             0.230         0.32             8.5   \n",
      "...     ...            ...               ...          ...             ...   \n",
      "6492    red            6.2             0.600         0.08             2.0   \n",
      "6493    red            5.9             0.550         0.10             2.2   \n",
      "6494    red            6.3             0.510         0.13             2.3   \n",
      "6495    red            5.9             0.645         0.12             2.0   \n",
      "6496    red            6.0             0.310         0.47             3.6   \n",
      "\n",
      "      chlorides  density    pH  sulphates  alcohol  quality  \n",
      "0         0.045  1.00100  3.00   0.450000      8.8        6  \n",
      "1         0.049  0.99400  3.30   0.490000      9.5        6  \n",
      "2         0.050  0.99510  3.26   0.440000     10.1        6  \n",
      "3         0.058  0.99560  3.19   0.400000      9.9        6  \n",
      "4         0.058  0.99560  3.19   0.400000      9.9        6  \n",
      "...         ...      ...   ...        ...      ...      ...  \n",
      "6492      0.090  0.99490  3.45   0.580000     10.5        5  \n",
      "6493      0.062  0.99512  3.52   0.531215     11.2        6  \n",
      "6494      0.076  0.99574  3.42   0.750000     11.0        6  \n",
      "6495      0.075  0.99547  3.57   0.710000     10.2        5  \n",
      "6496      0.067  0.99549  3.39   0.660000     11.0        6  \n",
      "\n",
      "[6497 rows x 11 columns]\n"
     ]
    }
   ],
   "source": [
    "#removing the highly correlated features(in this case 'free sulfur dioxide' and 'total sulfur dioxide')\n",
    "df=df.drop(['total sulfur dioxide','free sulfur dioxide'],axis=1)\n",
    "print(df)"
   ]
  },
  {
   "cell_type": "code",
   "execution_count": 12,
   "id": "f8eb4226",
   "metadata": {},
   "outputs": [],
   "source": [
    "df['best quality']=[1 if x>5 else 0 for x in df.quality]"
   ]
  },
  {
   "cell_type": "code",
   "execution_count": 13,
   "id": "2319ade3",
   "metadata": {},
   "outputs": [],
   "source": [
    "df.replace({'white':1,'red':0},inplace=True)"
   ]
  },
  {
   "cell_type": "code",
   "execution_count": 15,
   "id": "17e1aacf",
   "metadata": {},
   "outputs": [
    {
     "data": {
      "text/plain": [
       "((5197, 10), (1300, 10))"
      ]
     },
     "execution_count": 15,
     "metadata": {},
     "output_type": "execute_result"
    }
   ],
   "source": [
    "features=df.drop(['quality','best quality'], axis=1)\n",
    "target=df['best quality']\n",
    "xtrain, xtest, ytrain, ytest= train_test_split(features, target, test_size=0.2, random_state=40)\n",
    "xtrain.shape,xtest.shape"
   ]
  },
  {
   "cell_type": "code",
   "execution_count": 16,
   "id": "53459714",
   "metadata": {},
   "outputs": [],
   "source": [
    "norm=MinMaxScaler()\n",
    "xtrain=norm.fit_transform(xtrain)\n",
    "xtest=norm.transform(xtest)"
   ]
  },
  {
   "cell_type": "code",
   "execution_count": 20,
   "id": "d355be89",
   "metadata": {},
   "outputs": [
    {
     "name": "stdout",
     "output_type": "stream",
     "text": [
      "Model: LogisticRegression\n",
      "Training Accuracy :  0.7018365224261209\n",
      "Validation Accuracy :  0.6992368283936616\n",
      "\n",
      "Model: XGBClassifier\n",
      "Training Accuracy :  0.969661860064318\n",
      "Validation Accuracy :  0.788761353071587\n",
      "\n",
      "Model: SVC\n",
      "Training Accuracy :  0.706251343942582\n",
      "Validation Accuracy :  0.7030245910850932\n",
      "\n"
     ]
    }
   ],
   "source": [
    "models=[LogisticRegression(), XGBClassifier(), SVC(kernel='rbf')]\n",
    "for i in range(3):\n",
    "    models[i].fit(xtrain, ytrain)\n",
    "    print(f'Model: {type(models[i]).__name__}')\n",
    "    print('Training Accuracy : ',metrics.roc_auc_score(ytrain,models[i].predict(xtrain)))\n",
    "    print('Validation Accuracy : ',metrics.roc_auc_score(ytest,models[i].predict(xtest)))\n",
    "    print()"
   ]
  },
  {
   "cell_type": "code",
   "execution_count": 36,
   "id": "9c447782",
   "metadata": {},
   "outputs": [
    {
     "data": {
      "image/png": "[encoded data removed]",
      "text/plain": [
       "<Figure size 576x432 with 2 Axes>"
      ]
     },
     "metadata": {
      "needs_background": "light"
     },
     "output_type": "display_data"
    }
   ],
   "source": [
    "from sklearn.metrics import confusion_matrix\n",
    "y_pred = models[1].predict(xtest)\n",
    "cf=confusion_matrix(ytest, y_pred)\n",
    "plt.figure(figsize=(8, 6))\n",
    "sns.heatmap(cf, annot=True, fmt=\"d\", cmap=\"Blues\", cbar=True, annot_kws={\"size\": 16})\n",
    "plt.xlabel(\"Predicted label\", fontsize=14)\n",
    "plt.ylabel(\"True label\", fontsize=14)\n",
    "plt.title(\"Confusion matrix drawn on the validation data\", fontsize=16)\n",
    "plt.xticks(fontsize=12)\n",
    "plt.yticks(fontsize=12)\n",
    "plt.show()\n"
   ]
  },
  {
   "cell_type": "code",
   "execution_count": 37,
   "id": "06d85648",
   "metadata": {},
   "outputs": [
    {
     "name": "stdout",
     "output_type": "stream",
     "text": [
      "              precision    recall  f1-score   support\n",
      "\n",
      "           0       0.76      0.70      0.73       474\n",
      "           1       0.84      0.87      0.85       826\n",
      "\n",
      "    accuracy                           0.81      1300\n",
      "   macro avg       0.80      0.79      0.79      1300\n",
      "weighted avg       0.81      0.81      0.81      1300\n",
      "\n"
     ]
    }
   ],
   "source": [
    "print(metrics.classification_report(ytest,models[1].predict(xtest)))"
   ]
  }
 ],
 "metadata": {
  "kernelspec": {
   "display_name": "Python 3 (ipykernel)",
   "language": "python",
   "name": "python3"
  },
  "language_info": {
   "codemirror_mode": {
    "name": "ipython",
    "version": 3
   },
   "file_extension": ".py",
   "mimetype": "text/x-python",
   "name": "python",
   "nbconvert_exporter": "python",
   "pygments_lexer": "ipython3",
   "version": "3.9.7"
  }
 },
 "nbformat": 4,
 "nbformat_minor": 5
}
